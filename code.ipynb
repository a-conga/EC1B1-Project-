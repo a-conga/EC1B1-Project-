{
 "cells": [
  {
   "cell_type": "markdown",
   "metadata": {},
   "source": [
    "# EC1B1 Group project\n"
   ]
  },
  {
   "cell_type": "code",
   "execution_count": 118,
   "metadata": {},
   "outputs": [
    {
     "name": "stdout",
     "output_type": "stream",
     "text": [
      "Extracted: Sheet1 ✅\n",
      "Extracted: Sheet2 ✅\n",
      "Extracted: Sheet3 ✅\n"
     ]
    }
   ],
   "source": [
    "# Downloading the data\n",
    "\n",
    "import requests\n",
    "import pandas as pd\n",
    "from io import StringIO\n",
    "\n",
    "# Google Sheets details\n",
    "SHEET_ID = \"1VnzB2MO5jEBzXqtkA0i_oNtONzOIg9y3I5nU1fB6DwU\"\n",
    "# List of sheets and their GIDs (Find these manually or automate if needed)\n",
    "SHEET_GIDS = {\n",
    "    \"Sheet1\": \"0\",  \n",
    "    \"Sheet2\": \"1811506178\",\n",
    "    \"Sheet3\": \"1443003215\"\n",
    "}\n",
    "\n",
    "dfs = {}\n",
    "\n",
    "# Loop through each sheet and fetch data\n",
    "for sheet_name, gid in SHEET_GIDS.items():\n",
    "    url = f\"https://docs.google.com/spreadsheets/d/{SHEET_ID}/export?format=csv&gid={gid}\"\n",
    "    response = requests.get(url)\n",
    "\n",
    "    if response.status_code == 200:\n",
    "        df = pd.read_csv(StringIO(response.text))  # Convert CSV text to DataFrame\n",
    "        dfs[sheet_name] = df\n",
    "        print(f\"Extracted: {sheet_name} ✅\")\n",
    "    else:\n",
    "        print(f\"Failed to extract {sheet_name}, Status Code: {response.status_code}\")\n",
    "\n",
    "# Display extracted DataFrames\n",
    "#print(\"Extracted Sheets:\", dfs.keys())\n",
    "\n",
    "# Example: Print first few rows of a sheet\n",
    "#print(dfs[\"Sheet2\"].head())  # Change \"Sheet1\" to the actual sheet name\n",
    "\n",
    "germany_data=dfs[\"Sheet1\"]\n",
    "us_data=dfs[\"Sheet2\"]\n",
    "data=dfs['Sheet3']\n"
   ]
  },
  {
   "cell_type": "code",
   "execution_count": null,
   "metadata": {},
   "outputs": [],
   "source": [
    "# processing germany data\n",
    "df = germany_data.drop(columns='Germany').T\n",
    "df.columns = df.iloc[0]  # Set the first row as column headers\n",
    "df = df[1:]\n",
    "df[\"Country\"] = \"Germany\"\n",
    "germany_df = df"
   ]
  },
  {
   "cell_type": "code",
   "execution_count": null,
   "metadata": {},
   "outputs": [],
   "source": [
    "# processing us data\n",
    "df2 = us_data.drop(columns='USA').T\n",
    "df2.columns = df2.iloc[0]  # Set the first row as column headers\n",
    "df2 = df2[1:]\n",
    "df2[\"Country\"] = \"USA\"\n",
    "us_df = df2"
   ]
  },
  {
   "cell_type": "code",
   "execution_count": 143,
   "metadata": {},
   "outputs": [],
   "source": [
    "\n",
    "df = us_data.drop(columns='USA')\n",
    "\n",
    "df.loc[-1] = df.columns  # Insert the column names as a row at index -1\n",
    "df.index = df.index + 1  # Shift index to start from 1 to maintain the order\n",
    "df = df.sort_index()  # Sort the DataFrame by index\n",
    "df.columns = range(df.shape[1])\n",
    "newdf = df.T\n",
    "# df.columns = df.iloc[0]\n",
    "\n",
    "newdf.columns = newdf.iloc[0]\n",
    "\n",
    "newdf = newdf.drop(0)\n",
    "\n",
    "newdf[\"Country\"] = \"USA\"\n",
    "\n",
    "us_df = newdf"
   ]
  },
  {
   "cell_type": "code",
   "execution_count": null,
   "metadata": {},
   "outputs": [],
   "source": [
    "# cont processing data as a whole\n",
    "\n",
    "df = data\n",
    "# Convert column headers into a row\n",
    "df = pd.DataFrame(df.values, columns=[\"Header\"] * len(df.columns))\n",
    "\n",
    "# Add the original column names as a new row\n",
    "df.loc[-1] = df.columns.tolist()\n",
    "\n",
    "# Reset index to make the new row the first row\n",
    "df = df.reset_index(drop=True)\n",
    "\n",
    "# Print the result\n",
    "df\n",
    "# cont processing data as a whole\n",
    "\n",
    "data.T\n"
   ]
  },
  {
   "cell_type": "code",
   "execution_count": null,
   "metadata": {},
   "outputs": [],
   "source": [
    "germany_df\n"
   ]
  },
  {
   "cell_type": "code",
   "execution_count": null,
   "metadata": {},
   "outputs": [],
   "source": [
    "# processing germany data\n",
    "\n",
    "def convert_to_int(value):\n",
    "    if isinstance(value, str) and 'M' in value:\n",
    "        value = value.replace(',', '')  # Remove commas\n",
    "        return int(float(value.replace('M', '').strip()) * 1_000_000)\n",
    "    return value  # Return as is if not in expected format\n",
    "\n",
    "# Apply the function\n",
    "germany_df['International Reserves and Liquidity, Reserves, Official Reserve Assets, US Dollar'] = germany_df['International Reserves and Liquidity, Reserves, Official Reserve Assets, US Dollar'].apply(convert_to_int)\n",
    "\n",
    "# germany_df['International Reserves and Liquidity, Reserves, Official Reserve Assets, Gold (Including Gold Deposits and, If Appropriate, Gold Swapped), US Dollar'] = germany_df['International Reserves and Liquidity, Reserves, Official Reserve Assets, Gold (Including Gold Deposits and, If Appropriate, Gold Swapped), US Dollar'].apply(convert_to_int)\n",
    "\n",
    "germany_df\n",
    "us_df\n",
    "\n",
    "# us_df['International Reserves and Liquidity, Reserves, Official Reserve Assets, US Dollar'] = us_df['International Reserves and Liquidity, Reserves, Official Reserve Assets, US Dollar'].apply(convert_to_int)\n",
    "print(us_df.columns)\n",
    "\n"
   ]
  },
  {
   "cell_type": "code",
   "execution_count": null,
   "metadata": {},
   "outputs": [],
   "source": [
    "# us_df.shape()\n",
    "# len(us_df.columns)\n",
    "\n",
    "# us_df.columns = [\"International Reserves and Liquidity, Reserves, Official Reserve Assets, US Dollar\", \"Prices, Consumer Price Index, All items, Index\", \"Country\"]\n",
    "\n",
    "print(type(us_df))\n"
   ]
  }
 ],
 "metadata": {
  "kernelspec": {
   "display_name": "base",
   "language": "python",
   "name": "python3"
  },
  "language_info": {
   "codemirror_mode": {
    "name": "ipython",
    "version": 3
   },
   "file_extension": ".py",
   "mimetype": "text/x-python",
   "name": "python",
   "nbconvert_exporter": "python",
   "pygments_lexer": "ipython3",
   "version": "3.11.8"
  }
 },
 "nbformat": 4,
 "nbformat_minor": 2
}
